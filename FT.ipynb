{
 "cells": [
  {
   "cell_type": "markdown",
   "id": "f28ffeb9",
   "metadata": {},
   "source": [
    "# FT"
   ]
  },
  {
   "cell_type": "code",
   "execution_count": 1,
   "id": "c12ec522",
   "metadata": {},
   "outputs": [],
   "source": [
    "from cmath import exp, pi\n",
    " \n",
    "def fft(x):\n",
    "    N = len(x)\n",
    "    if N <= 1: return x\n",
    "    even = fft(x[0::2])\n",
    "    odd =  fft(x[1::2])\n",
    "    T= [exp(-2j*pi*k/N)*odd[k] for k in range(N//2)]\n",
    "    return [even[k] + T[k] for k in range(N//2)] + \\\n",
    "           [even[k] - T[k] for k in range(N//2)]"
   ]
  }
 ],
 "metadata": {
  "kernelspec": {
   "display_name": "Python 3 (ipykernel)",
   "language": "python",
   "name": "python3"
  },
  "language_info": {
   "codemirror_mode": {
    "name": "ipython",
    "version": 3
   },
   "file_extension": ".py",
   "mimetype": "text/x-python",
   "name": "python",
   "nbconvert_exporter": "python",
   "pygments_lexer": "ipython3",
   "version": "3.9.7"
  }
 },
 "nbformat": 4,
 "nbformat_minor": 5
}
