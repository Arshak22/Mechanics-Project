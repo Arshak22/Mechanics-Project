{
 "cells": [
  {
   "cell_type": "markdown",
   "id": "daeb290a",
   "metadata": {},
   "source": [
    "# Converter"
   ]
  },
  {
   "cell_type": "code",
   "execution_count": 2,
   "id": "bd1522c1",
   "metadata": {},
   "outputs": [
    {
     "ename": "ModuleNotFoundError",
     "evalue": "No module named 'spring_array'",
     "output_type": "error",
     "traceback": [
      "\u001b[1;31m---------------------------------------------------------------------------\u001b[0m",
      "\u001b[1;31mModuleNotFoundError\u001b[0m                       Traceback (most recent call last)",
      "\u001b[1;32m~\\AppData\\Local\\Temp/ipykernel_16516/3676093136.py\u001b[0m in \u001b[0;36m<module>\u001b[1;34m\u001b[0m\n\u001b[0;32m      4\u001b[0m \u001b[1;33m\u001b[0m\u001b[0m\n\u001b[0;32m      5\u001b[0m \u001b[1;32mfrom\u001b[0m \u001b[0mscipy\u001b[0m \u001b[1;32mimport\u001b[0m \u001b[0mfft\u001b[0m\u001b[1;33m\u001b[0m\u001b[1;33m\u001b[0m\u001b[0m\n\u001b[1;32m----> 6\u001b[1;33m \u001b[1;32mfrom\u001b[0m \u001b[0mspring_array\u001b[0m \u001b[1;32mimport\u001b[0m \u001b[0mSpringArray\u001b[0m\u001b[1;33m\u001b[0m\u001b[1;33m\u001b[0m\u001b[0m\n\u001b[0m\u001b[0;32m      7\u001b[0m \u001b[1;32mfrom\u001b[0m \u001b[0mspring\u001b[0m \u001b[1;32mimport\u001b[0m \u001b[0mSpring\u001b[0m\u001b[1;33m\u001b[0m\u001b[1;33m\u001b[0m\u001b[0m\n\u001b[0;32m      8\u001b[0m \u001b[1;33m\u001b[0m\u001b[0m\n",
      "\u001b[1;31mModuleNotFoundError\u001b[0m: No module named 'spring_array'"
     ]
    }
   ],
   "source": [
    "from collections import namedtuple\n",
    "import numpy as np\n",
    "from Spring Array import SpringArray\n",
    "from Spring import Spring\n",
    "\n",
    "\n",
    "class Converter:\n",
    "    spring: Spring\n",
    "    spring_array: SpringArray\n",
    "\n",
    "    DURATION = 5\n",
    "    SAMPLE_RATE = 100\n",
    "\n",
    "    def __init__(self, spring_array):\n",
    "        self.spring_array = spring_array\n",
    "\n",
    "    def set_spring_from_binary(self, byte):\n",
    "        springs = []\n",
    "        for index, bit in enumerate(byte):\n",
    "            if bit == '1':\n",
    "                stiffness = 2 ** (8 - 1 - index)\n",
    "                springs.append(Spring(k = stiffness))\n",
    "\n",
    "        springExp = 'Arshak'\n",
    "\n",
    "        self.spring = self.spring_array.equivalentSpring(springExp, springs)\n",
    "\n",
    "    def get_oscillations(self):\n",
    "        return self.spring.move(self.DURATION, 1 / self.SAMPLE_RATE, 2)"
   ]
  }
 ],
 "metadata": {
  "kernelspec": {
   "display_name": "Python 3 (ipykernel)",
   "language": "python",
   "name": "python3"
  },
  "language_info": {
   "codemirror_mode": {
    "name": "ipython",
    "version": 3
   },
   "file_extension": ".py",
   "mimetype": "text/x-python",
   "name": "python",
   "nbconvert_exporter": "python",
   "pygments_lexer": "ipython3",
   "version": "3.9.7"
  }
 },
 "nbformat": 4,
 "nbformat_minor": 5
}
