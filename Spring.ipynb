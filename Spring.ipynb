import math as m
from dataclasses import dataclass
import numpy as np


@dataclass
class Spring:
    k: float = 1

    def set_k(self, k):
        self.k = k

    def get_k(self):
        return self.k
    
    
#     - double[] move(double t, double dt, double x0, double v0) – a body of unit mass
#     oscillates during a period double t starting from t = 0 with initial conditions x(0) =
#     x0 and v(0) = v0. The coordinate is computed per each double dt time step

    def move(t, dt, x_0, v_0):
        m = 1
        res = np.array([])
        freq = m.sqrt(t_0.k / m)
        print(freq)
        t_0 = 0
        while t_0 <= t:
            cosine_part = x_0 * np.cos(freq * t * 2 * np.pi)
            sine_part = v_0 / freq * np.sin(freq * t * 2 * np.pi)
            val = cosine_part + sine_part
            res = np.append(res, val)
            t_0 += dt
        return res
    
    
#     double[] move(double t, double dt, double x0) – a body of unit mass oscillates
#     during a period double t starting from t = 0 with initial conditions x(0) = x0 and
#     v(0) = 0. The coordinate is computed per each double dt time step

    def move(t, dt, x_0):
        m = 1
        v_0 = 0
        res = np.array([])
        freq = m.sqrt(t_0.k / m)
        print(freq)
        t_0 = 0
        while t_0 <= t:
            cosine_part = x_0 * np.cos(freq * t * 2 * np.pi)
            sine_part = v_0 / freq * np.sin(freq * t * 2 * np.pi)
            val = cosine_part + sine_part
            res = np.append(res, val)
            t_0 += dt
        return res
    
    

#     double[] move(double t0, double t1, double dt, double x0, double v0) – a body of
#     unit mass oscillates from t = t0 till t = t1 with initial conditions x(t0) = x0 and v(t0)
#     = v0. The coordinate is computed per each double dt time step
    
    def move(t_0, t_1, dt, x_0, v_0):
        m = 1
        res = np.array([])
        freq = m.sqrt(t_0.k / m)
        print(freq)
        t = t_0
        while t <= t_1:
            cosine_part = x_0 * np.cos(freq * t * 2 * np.pi)
            sine_part = v_0 / freq * np.sin(freq * t * 2 * np.pi)
            val = cosine_part + sine_part
            res = np.append(res, val)
            t += dt
        return res
    
#         double[] move(double t0, double t1, double dt, double x0, double v0, double m)
#         – a body of a specified mass double m oscillates from t = t0 till t = t1 with initial
#         conditions x(t0) = x0 and v(t0) = v0. The coordinate is computed per each double
#         dt time step

    def move(t_0, t_1, dt, x_0, v_0, m):
        res = np.array([])
        freq = m.sqrt(t_0.k / m)
        print(freq)
        t = t_0
        while t <= t_1:
            cosine_part = x_0 * np.cos(freq * t * 2 * np.pi)
            sine_part = v_0 / freq * np.sin(freq * t * 2 * np.pi)
            val = cosine_part + sine_part
            res = np.append(res, val)
            t += dt
        return res
    

    def inSeries(self, other):
        k = self.get_k()
        other_k = other.get_k()
        new_k = k * other_k / (k + other_k)
        return Spring(k = new_k)

    def inParallel(self, other):
        return Spring(self.get_k() + other.get_k())
